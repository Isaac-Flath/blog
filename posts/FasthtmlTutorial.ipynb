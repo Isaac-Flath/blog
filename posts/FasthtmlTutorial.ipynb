{
 "cells": [
  {
   "cell_type": "raw",
   "metadata": {
    "vscode": {
     "languageId": "raw"
    }
   },
   "source": [
    "---\n",
    "title: \"Creating Custom FastHTML Tags for Markdown Rendering\"\n",
    "author: \"Isaac Flath\"\n",
    "date: \"2024-07-19\"\n",
    "description: \"Step by step tutorial to rendering markdown in FastHTML using zero-md\"\n",
    "categories: [FastHTML, htmx, boots]\n",
    "image: \"static/thumbnail_imgs/FastHtml.jpg\"\n",
    "---"
   ]
  },
  {
   "cell_type": "markdown",
   "metadata": {},
   "source": [
    "# Intro\n",
    "\n",
    "This post will cover how to render markdown using zero-md in [FastHTML](https://fastht.ml/) in a practical example.  This includes:\n",
    "\n",
    "* Defining a custom HTML tag in FastHTML \n",
    "* Using external CSS and javascript libraries with FastHTML\n",
    "* Adding CSS styling\n",
    "* Organize UI into columns\n",
    "\n",
    "In this tutorial we will convert a markdown of an [early lesson](https://www.boot.dev/lessons/d3d50474-d60a-4751-b71e-e145ae95b966?survey_no_sub=true) in the [boot.dev](https://boot.dev) curriculum and a fake conversation between a student and a chatbot about the lesson to HTML.  Boot.dev is an online learning platform that offers self-paced, gamified courses for back-end web development.\n"
   ]
  },
  {
   "cell_type": "markdown",
   "metadata": {},
   "source": [
    "# Markdown With Zero-md"
   ]
  },
  {
   "cell_type": "code",
   "execution_count": 1,
   "metadata": {},
   "outputs": [],
   "source": [
    "# Import style 1 \n",
    "from fasthtml.common import *\n",
    "from functools import partial\n",
    "\n",
    "# Import style 2\n",
    "from fasthtml.core import P, Script, Html, Link, Div, Template, Style, to_xml\n",
    "from fasthtml.components import show"
   ]
  },
  {
   "cell_type": "markdown",
   "metadata": {},
   "source": [
    "In FastHTML we can use the `P` function to put text in a paragraph `<p></p>` tag (a common way of displaying text).  However, markdown is not rendered properly and is hard to read!\n",
    "\n",
    "While text can be read without styling, markdown has headers, code, bullets and other elements.  So we need something more than just a regular text rendering."
   ]
  },
  {
   "cell_type": "markdown",
   "metadata": {},
   "source": [
    "We need to convert markdown formatting into a format that HTML understands.  We can use a javascript library called [zero-md](https://zerodevx.github.io/zero-md/) to do this, but this tag does not have a function in FastHTML.  There are still two options for using this tag in FastHTML.\n",
    "\n",
    "> ### 💡 What is zero-md?\n",
    "> In web development, HTML defines the general structure of a web page. However, HTML alone is usually not sufficient. Javascript allows us to extend what we can do beyond out-of-the-box HTML. `zero-md` is a Javascript library that adds functionality for displaying markdown content that we can use with an HTML tag."
   ]
  },
  {
   "cell_type": "markdown",
   "metadata": {},
   "source": [
    "\n",
    "The first option is to write the HTML in a text string and use that. \n"
   ]
  },
  {
   "cell_type": "markdown",
   "metadata": {},
   "source": [
    "\n",
    "```python\n",
    "NotStr(f'''<zero-md><script type=\"text/markdown\">{lesson_content}</script></zero-md>''')\n",
    "```\n"
   ]
  },
  {
   "cell_type": "markdown",
   "metadata": {},
   "source": [
    "> ### 💡 Tip\n",
    "> `NotStr` is a FastHTML function designed for passing a string that should be executed as HTML code rather than a string.\n",
    "In the example above, because `NotStr` is used, FastHTML will treat it as HTML code rather than a Python string.  If we removed the `NotStr`, all the HTML tags would be displayed on the page just as they are written rather than being rendered nicely for your web application.\n"
   ]
  },
  {
   "cell_type": "markdown",
   "metadata": {},
   "source": [
    "\n",
    "This is fine for very simple things, but the more you build, the messier and harder it gets to work with.  It is better to create a FastHTML style tag that works just like everything else.  It's incredibly simple to create a custom tag.  By importing from `fasthtml.components` the HTML tag will be created automatically (defined in the module's `__getattr__`)."
   ]
  },
  {
   "cell_type": "code",
   "execution_count": 5,
   "metadata": {},
   "outputs": [],
   "source": [
    "from fasthtml.components import Zero_md"
   ]
  },
  {
   "cell_type": "markdown",
   "metadata": {},
   "source": [
    "Now that we have our custom tag defined, we can use that with the `<script>` tag (included in FastHTML) to apply the formatting per the [zero-md documentation](https://zerodevx.github.io/zero-md/).  For now, we will use the defaults and do nothing with CSS (more details on this later)."
   ]
  },
  {
   "cell_type": "code",
   "execution_count": 6,
   "metadata": {},
   "outputs": [
    {
     "name": "stdout",
     "output_type": "stream",
     "text": [
      "<zero-md><template data-append>    <style></style>\n",
      "</template><script type=\"text/markdown\"># Startup bug\n",
      "\n",
      "A new startup has a bug in its server code. The code is supposed to print messages indicating the server has started successfully.\n",
      "\n",
      "## Challenge\n",
      "\n",
      "Fix the 2 errors in the code and get it to run!\n",
      "\n",
      "```python\n",
      "print(&quot;Starting up server...&#x27;)\n",
      "prnt(&quot;local server is listening on port 8080&quot;)\n",
      "```</script></zero-md>\n"
     ]
    }
   ],
   "source": [
    "def render_local_md(md, css = ''):\n",
    "    css_template = Template(Style(css), data_append=True)\n",
    "    return Zero_md(css_template, Script(md, type=\"text/markdown\"))\n",
    "\n",
    "lesson_content_html = render_local_md(lesson_content)\n",
    "print(to_xml(lesson_content_html))"
   ]
  },
  {
   "cell_type": "markdown",
   "metadata": {},
   "source": [
    "The last thing we need to do is load zero-md from a CDN.  We can do this by adding a `<script>` tag to the `<head>` of the HTML, and it all works!"
   ]
  },
  {
   "cell_type": "code",
   "execution_count": 8,
   "metadata": {},
   "outputs": [],
   "source": [
    "with open('static/_readme.md') as f: lesson_content = f.read()\n",
    "\n",
    "zeromd_headers = [Script(type=\"module\", src=\"https://cdn.jsdelivr.net/npm/zero-md@3?register\")]"
   ]
  },
  {
   "cell_type": "markdown",
   "metadata": {},
   "source": [
    "\n",
    "`Html(*zeromd_headers, lesson_content_html)`\n",
    "\n",
    "![image](static/Rendered_Content.png)\n"
   ]
  },
  {
   "cell_type": "markdown",
   "metadata": {},
   "source": [
    "# Markdown Conversation Bubbles"
   ]
  },
  {
   "cell_type": "markdown",
   "metadata": {},
   "source": [
    "We will start with default DaisyUI chat bubbles.  For many types of conversations this is fine, but for this use case we need markdown to render properly for code snippets and structural elements.\n",
    "\n",
    "> ### 💡 Note\n",
    "> This part of the tutorial picks up where the step-by-step [the DaisyUI example](https://fhdocs.answer.ai/by_example.html#full-example-3---chatbot-example-with-daisyui-components) in the FastHTML documentation leaves off.  For more information, start there!"
   ]
  },
  {
   "cell_type": "code",
   "execution_count": 11,
   "metadata": {},
   "outputs": [],
   "source": [
    "#loading messages\n",
    "import json\n",
    "with open('static/conversation.json') as f:\n",
    "    messages = json.load(f)['messages']"
   ]
  },
  {
   "cell_type": "code",
   "execution_count": 12,
   "metadata": {},
   "outputs": [],
   "source": [
    "# Loading tailwind and daisyui\n",
    "chat_headers = [Script(src=\"https://cdn.tailwindcss.com\"),\n",
    "           Link(rel=\"stylesheet\", href=\"https://cdn.jsdelivr.net/npm/daisyui@4.11.1/dist/full.min.css\")]"
   ]
  },
  {
   "cell_type": "markdown",
   "metadata": {},
   "source": [
    "We re-use the code from the daisyUI example with one change.  We are using the `render_local_md` function we defined."
   ]
  },
  {
   "cell_type": "code",
   "execution_count": 13,
   "metadata": {},
   "outputs": [],
   "source": [
    "# Functionality identical to Daisy UI example linked above\n",
    "def ChatMessage(msg, render_md_fn=lambda x: x):\n",
    "    md = render_md_fn(msg['content'])\n",
    "    return Div(\n",
    "        Div(msg['role'], cls=\"chat-header\"),\n",
    "        Div(md, cls=f\"chat-bubble chat-bubble-{'primary' if msg['role'] == 'user' else 'secondary'}\"),\n",
    "        cls=f\"chat chat-{'end' if msg['role'] == 'user' else 'start'}\")"
   ]
  },
  {
   "cell_type": "markdown",
   "metadata": {},
   "source": [
    "Using this, markdown doesn't render properly, causing readability issues."
   ]
  },
  {
   "cell_type": "markdown",
   "metadata": {},
   "source": [
    "Instead let's do exactly what we did before with Zero-md.  Our markdown renders, however there are some issues with css styles clashing.\n"
   ]
  },
  {
   "cell_type": "code",
   "execution_count": 14,
   "metadata": {},
   "outputs": [],
   "source": [
    "chat_bubble =Html(*(chat_headers+zeromd_headers), ChatMessage(messages[1], render_md_fn=render_local_md))"
   ]
  },
  {
   "cell_type": "markdown",
   "metadata": {},
   "source": [
    "![image](static/Rendered_Bubble_BadFormat.png)"
   ]
  },
  {
   "cell_type": "markdown",
   "metadata": {},
   "source": [
    "We can inject CSS styling to handle this issue by telling zero-md to use a template and ignore the default styles to make beautiful properly rendered conversations.\n",
    "\n",
    "> ### 💡 Tip\n",
    "> CSS allows us to extend what we can do with just HTML by providing a syntax for adding styling to HTML elements in a programmatic way.  You may want every header to have a specific text color or every paragraph to have a specific background color.  CSS allows us to do that."
   ]
  },
  {
   "cell_type": "code",
   "execution_count": 15,
   "metadata": {},
   "outputs": [],
   "source": [
    "css = '.markdown-body {background-color: unset !important; color: unset !important;}'\n",
    "_render_local_md = partial(render_local_md, css=css)\n",
    "chat_bubble = Html(*(chat_headers+zeromd_headers), ChatMessage(messages[1], render_md_fn=_render_local_md))"
   ]
  },
  {
   "cell_type": "markdown",
   "metadata": {},
   "source": [
    "Now that it looks good we can apply this style to all messages"
   ]
  },
  {
   "cell_type": "markdown",
   "metadata": {},
   "source": [
    "![](Rendered_Bubble.png)"
   ]
  },
  {
   "cell_type": "markdown",
   "metadata": {},
   "source": [
    "# Putting it Together"
   ]
  },
  {
   "cell_type": "markdown",
   "metadata": {},
   "source": [
    "We can add FlexBox to organize content on a page to design our UI and see it in action.\n",
    " \n",
    "> ### 💡 Tip\n",
    "> Like we saw the `zero-md` javascript library, we can import CSS libraries into our HTML.  FlexBox is a CSS library that allows you to define classes on elements and it styles them based on the class names (such as `\"col-xs-5\"` to define a column width)."
   ]
  },
  {
   "cell_type": "code",
   "execution_count": 16,
   "metadata": {},
   "outputs": [],
   "source": [
    "flexbox = [Link(rel='stylesheet', href='https://cdnjs.cloudflare.com/ajax/libs/flexboxgrid/6.3.1/flexboxgrid.min.css', type='text/css')]\n",
    "all_headers = zeromd_headers + chat_headers + flexbox\n",
    "\n",
    "chatbox = [ChatMessage(msg, render_md_fn=_render_local_md) for msg in messages]\n",
    "        \n",
    "conversation_ui = Html(*all_headers, \n",
    "          Div(\n",
    "              Div(lesson_content_html, cls=\"col-xs-5\"),\n",
    "              Div(*chatbox, cls=\"col-xs-7\"),\n",
    "              cls=\"row\"))"
   ]
  },
  {
   "cell_type": "markdown",
   "metadata": {},
   "source": [
    "![image](static/Completed_example.png)"
   ]
  }
 ],
 "metadata": {
  "kernelspec": {
   "display_name": "Python 3 (ipykernel)",
   "language": "python",
   "name": "python3"
  },
  "language_info": {
   "codemirror_mode": {
    "name": "ipython",
    "version": 3
   },
   "file_extension": ".py",
   "mimetype": "text/x-python",
   "name": "python",
   "nbconvert_exporter": "python",
   "pygments_lexer": "ipython3",
   "version": "3.12.8"
  }
 },
 "nbformat": 4,
 "nbformat_minor": 2
}
